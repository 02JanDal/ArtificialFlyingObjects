{
 "cells": [
  {
   "cell_type": "markdown",
   "metadata": {},
   "source": [
    "<center><h1 style=\"font-size:40px;\">Image Classification using CNNs</h1></center>"
   ]
  },
  {
   "cell_type": "markdown",
   "metadata": {},
   "source": [
    "Welcome to the *fourth* lab for Deep Learning!\n",
    "\n",
    "In this lab an CNN network to classify RGB images. Image classification refers to classify classes from images. This labs the *dataset* consist of multiple images where each image have a target label for classification.\n",
    "\n",
    "Good luck!\n"
   ]
  },
  {
   "cell_type": "code",
   "execution_count": null,
   "metadata": {},
   "outputs": [
    {
     "ename": "ImportError",
     "evalue": "attempted relative import with no known parent package",
     "output_type": "error",
     "traceback": [
      "\u001b[1;31m---------------------------------------------------------------------------\u001b[0m",
      "\u001b[1;31mImportError\u001b[0m                               Traceback (most recent call last)",
      "Cell \u001b[1;32mIn [1], line 12\u001b[0m\n\u001b[0;32m      9\u001b[0m \u001b[38;5;28;01mfrom\u001b[39;00m \u001b[38;5;21;01mtorch\u001b[39;00m\u001b[38;5;21;01m.\u001b[39;00m\u001b[38;5;21;01mutils\u001b[39;00m\u001b[38;5;21;01m.\u001b[39;00m\u001b[38;5;21;01mdata\u001b[39;00m \u001b[38;5;28;01mimport\u001b[39;00m DataLoader\n\u001b[0;32m     10\u001b[0m \u001b[38;5;28;01mfrom\u001b[39;00m \u001b[38;5;21;01mcollections\u001b[39;00m \u001b[38;5;28;01mimport\u001b[39;00m OrderedDict\n\u001b[1;32m---> 12\u001b[0m \u001b[38;5;28;01mfrom\u001b[39;00m \u001b[38;5;21;01m.\u001b[39;00m\u001b[38;5;21;01mtransforms\u001b[39;00m \u001b[38;5;28;01mimport\u001b[39;00m Compose, RandomResize, PILToTensor\n",
      "\u001b[1;31mImportError\u001b[0m: attempted relative import with no known parent package"
     ]
    }
   ],
   "source": [
    "import torch\n",
    "from torch import nn\n",
    "import os\n",
    "import imageio\n",
    "import torchvision\n",
    "import math\n",
    "import matplotlib.pyplot as plt\n",
    "import numpy as np\n",
    "from torch.utils.data import DataLoader\n",
    "from collections import OrderedDict"
   ]
  },
  {
   "cell_type": "markdown",
   "metadata": {},
   "source": [
    "First lets define the ```path``` to the dataset. Make sure you explore the directories of the dataset and get familiar with it!"
   ]
  },
  {
   "cell_type": "code",
   "execution_count": 3,
   "metadata": {},
   "outputs": [],
   "source": [
    "training_img_dir = \"../data/FlyingObjectDataset_10K/training\"\n",
    "validation_img_dir = \"../data/FlyingObjectDataset_10K/validation\"\n",
    "testing_img_dir = \"../data/FlyingObjectDataset_10K/testing\""
   ]
  },
  {
   "cell_type": "markdown",
   "metadata": {},
   "source": [
    "We are also going to start using ```tensorboard```:"
   ]
  },
  {
   "cell_type": "code",
   "execution_count": 4,
   "metadata": {},
   "outputs": [],
   "source": [
    "from torch.utils.tensorboard import SummaryWriter\n",
    "writer = SummaryWriter('runs/classification_1') #make sure to adapt this to your needs"
   ]
  },
  {
   "cell_type": "markdown",
   "metadata": {},
   "source": [
    "Please make sure to read the [doc](https://pytorch.org/tutorials/intermediate/tensorboard_tutorial.html) to understand how to correctly plot your ```losses``` and ```metrics``` to tensorboard"
   ]
  },
  {
   "cell_type": "markdown",
   "metadata": {},
   "source": [
    "Ok now that we have the path to the tree different splits, lets start by defining our ```Dataset``` class!\n",
    "The main two methods we need to define when subclassing ```Dataset``` is ```__getitem__``` and ```__len__```:"
   ]
  },
  {
   "cell_type": "code",
   "execution_count": 218,
   "metadata": {},
   "outputs": [],
   "source": [
    "from PIL import Image\n",
    "\n",
    "class FlyingObjects(torch.utils.data.Dataset):\n",
    "    \"\"\"Dataset to Flying Object Dataset for the classification task.\n",
    "       The label information is encoded on the filename, __extract_label will extract the label following the chosen granularity\n",
    "    \n",
    "    \"\"\"\n",
    "    def __init__(self, root,fine_grained=False,transform=None,augment=False):\n",
    "        super(FlyingObjects,self).__init__()\n",
    "        self.root = root\n",
    "        self.transform = transform\n",
    "        self.fine_grained = fine_grained\n",
    "\n",
    "        self.images = [os.path.join(dp,f) for dp, dn, fn in os.walk(os.path.expanduser(self.root+'/image')) for f in fn if f.endswith(\".png\")]\n",
    "        self.images.sort()\n",
    "        if augment:\n",
    "            self.images = [\n",
    "                *[(i, 'orig') for i in self.images],\n",
    "                *[(i, 'fliph') for i in self.images],\n",
    "                *[(i, 'flipv') for i in self.images],\n",
    "                *[(i, 'fliphv') for i in self.images]\n",
    "            ]\n",
    "        else:\n",
    "            self.images = [(i, 'orig') for i in self.images]\n",
    "        \n",
    "        self.classes = [\n",
    "            'square_red',\n",
    "            'square_green',\n",
    "            'square_blue',\n",
    "            'square_yellow',\n",
    "            'triangle_red',\n",
    "            'triangle_green',\n",
    "            'triangle_blue',\n",
    "            'triangle_yellow',\n",
    "            'circular_red',\n",
    "            'circular_green',\n",
    "            'circular_blue',\n",
    "            'circular_yellow',\n",
    "            'background'\n",
    "        ] if self.fine_grained else [\n",
    "            'square',\n",
    "            'triangle',\n",
    "            'circular',\n",
    "            'background']\n",
    "        self.labels = [self.__extract_label(f[0]) for f in self.images]\n",
    "    \n",
    "\n",
    "    def get_classes(self):\n",
    "        return self.classes\n",
    "    \n",
    "    \n",
    "    def __extract_label(self, image_file):\n",
    "        \"\"\"Extract label from image_file name\"\"\"\n",
    "        path, img_name = os.path.split(image_file)\n",
    "        names = img_name.split(\".\")[0].split(\"_\")\n",
    "\n",
    "        currLabel = names[1] + \"_\" + names[2] if self.fine_grained else names[1]\n",
    "\n",
    "        if currLabel in self.classes:\n",
    "            label = self.classes.index(currLabel)\n",
    "        else:\n",
    "            raise ValueError(\"ERROR: Label \" + str(currLabel) + \" is not defined!\")\n",
    "        return label\n",
    "    \n",
    "    def __getitem__(self, index):\n",
    "        # get data\n",
    "        #x = imageio.v2.imread(self.images[index])\n",
    "        x = Image.open(self.images[index][0])\n",
    "        if self.images[index][1] == \"fliph\":\n",
    "            x = x.transpose(Image.Transpose.FLIP_LEFT_RIGHT)\n",
    "        elif self.images[index][1] == \"flipv\":\n",
    "            x = x.transpose(Image.Transpose.FLIP_TOP_BOTTOM)\n",
    "        elif self.images[index][1] == \"fliphv\":\n",
    "            x = x.transpose(Image.Transpose.FLIP_LEFT_RIGHT).transpose(Image.Transpose.FLIP_TOP_BOTTOM)\n",
    "        \n",
    "        if self.transform:\n",
    "            x = self.transform(x)\n",
    "        else:\n",
    "            x = torch.from_numpy(x)\n",
    "        x = x.float()\n",
    "   \n",
    "        # get label\n",
    "        y = self.labels[index]\n",
    "        #y = np.eye(len(self.get_classes()))[y]\n",
    "        #y = torch.tensor(y)\n",
    "        return x, y\n",
    "\n",
    "    def __len__(self):\n",
    "        return len(self.images)"
   ]
  },
  {
   "cell_type": "markdown",
   "metadata": {},
   "source": [
    "We can define our transformations. Note that not all transformations are considered ```Data Augmentation```.\n",
    "The following transformations are used to convert our data to ```Tensor``` and resize our images to the desired size!"
   ]
  },
  {
   "cell_type": "code",
   "execution_count": 219,
   "metadata": {},
   "outputs": [],
   "source": [
    "train_transform = torchvision.transforms.Compose([\n",
    "    torchvision.transforms.ToTensor(),\n",
    "#    torchvision.transforms.Resize((64, 64)),\n",
    "])\n",
    "test_transform = torchvision.transforms.Compose([\n",
    "    torchvision.transforms.ToTensor(),\n",
    "#    torchvision.transforms.Resize((64, 64))\n",
    "])"
   ]
  },
  {
   "cell_type": "markdown",
   "metadata": {},
   "source": [
    "# Question 1\n",
    "\n",
    "Define the three dataloaders for the three splits: ```train```, ```validation``` and ```test```"
   ]
  },
  {
   "cell_type": "markdown",
   "metadata": {},
   "source": [
    "Do not forget to visualize the data!"
   ]
  },
  {
   "cell_type": "code",
   "execution_count": 220,
   "metadata": {},
   "outputs": [],
   "source": [
    "def image_with_labels(data, labels, title:str=None, nimages:int=10, nrows:int=2, fig_dimension=1,title_size=10, label_prefix=\"Label: \"):\n",
    "    \"\"\"Creates a grid of images with/without labels.\n",
    "\n",
    "    :param data: tensor\": B,W,H,C\n",
    "    :param labels: tensor\":  (Default value = None)\n",
    "    :param title: str:  (Default value = None)\n",
    "    :param nimages: int:  (Default value = 10)\n",
    "    :param nrows: int:  (Default value = 2)\n",
    "    :param fig_dimension: Default value = 1)\n",
    "    :param data:\"tensor\": \n",
    "    :param labels:\"tensor\":  (Default value = None)\n",
    "    :param title:str:  (Default value = None)\n",
    "    :param nimages:int:  (Default value = 10)\n",
    "    :param nrows:int:  (Default value = 2)\n",
    "\n",
    "    \"\"\"\n",
    "    image_ratio = data[0].shape[0] /data[0].shape[1]\n",
    "    if len(data)< nimages:\n",
    "        nimages = len(data)\n",
    " \n",
    "    columns = math.ceil(nimages/nrows)\n",
    "    \n",
    "    if nrows*columns > nimages:\n",
    "        nrows = math.ceil(nimages/columns)\n",
    "    \n",
    "    fig = plt.figure(figsize=(fig_dimension*columns,1.4*fig_dimension*nrows*image_ratio))\n",
    "    for i in range(0, nimages):\n",
    "        ax = fig.add_subplot(nrows, columns, i+1)\n",
    "        ax.imshow(data[i])\n",
    "        ax.set_xlabel(f\"{label_prefix}{labels[i]}\") if labels is not None else None\n",
    "        ax.set_xticks([])\n",
    "        ax.set_yticks([])\n",
    "        ax.grid(False)\n",
    "\n",
    "    if labels is None:\n",
    "        fig.suptitle(title,x=0.5, y=.95, size=title_size) \n",
    "        \n",
    "        fig.subplots_adjust(\n",
    "            left=0,\n",
    "            right=0.9,\n",
    "            top=0.9,\n",
    "            bottom=0,\n",
    "            wspace=0.1,\n",
    "            hspace=-0.45\n",
    "        )\n",
    "    else:\n",
    "        fig.suptitle(title) #,x=0.45, y=.95\n",
    "        \n",
    "        fig.subplots_adjust(\n",
    "            #left=0,\n",
    "            #right=1,\n",
    "            top=0.9,#+((nrows-1)*0.045),\n",
    "            #bottom=0,\n",
    "            wspace=0,\n",
    "            #hspace=0\n",
    "        )\n",
    "        \n",
    "    #plt.tight_layout(h_pad=0,w_pad=0)\n",
    "    fig.tight_layout(pad=0, h_pad=0,w_pad=0)\n",
    "    plt.show()"
   ]
  },
  {
   "cell_type": "code",
   "execution_count": 221,
   "metadata": {},
   "outputs": [],
   "source": [
    "train_dataset = FlyingObjects(training_img_dir, transform=train_transform, augment=True, fine_grained=True)\n",
    "valid_dataset = FlyingObjects(validation_img_dir, transform=test_transform, fine_grained=True)\n",
    "test_dataset = FlyingObjects(testing_img_dir, transform=test_transform, fine_grained=True)\n",
    "\n",
    "train_loader = torch.utils.data.DataLoader(train_dataset, batch_size=64, shuffle=True)\n",
    "valid_loader = torch.utils.data.DataLoader(valid_dataset, batch_size=64, shuffle=True)\n",
    "test_loader = torch.utils.data.DataLoader(test_dataset, batch_size=64, shuffle=True)"
   ]
  },
  {
   "cell_type": "code",
   "execution_count": 223,
   "metadata": {},
   "outputs": [
    {
     "data": {
      "image/png": "[encoded data removed]",
      "text/plain": [
       "<Figure size 500x280 with 10 Axes>"
      ]
     },
     "metadata": {},
     "output_type": "display_data"
    }
   ],
   "source": [
    "features, labels = next(iter(train_loader))\n",
    "image_with_labels(np.transpose(features[:10], (0, 2, 3, 1)), [train_dataset.classes[l] for l in labels[:10]])"
   ]
  },
  {
   "cell_type": "code",
   "execution_count": 222,
   "metadata": {},
   "outputs": [
    {
     "data": {
      "image/png": "[encoded data removed]",
      "text/plain": [
       "<Figure size 500x280 with 10 Axes>"
      ]
     },
     "metadata": {},
     "output_type": "display_data"
    }
   ],
   "source": [
    "features, labels = next(iter(valid_loader))\n",
    "image_with_labels(np.transpose(features[:10], (0, 2, 3, 1)), [train_dataset.classes[l] for l in labels[:10]])"
   ]
  },
  {
   "cell_type": "markdown",
   "metadata": {},
   "source": [
    "Let's start with a very simple network"
   ]
  },
  {
   "cell_type": "code",
   "execution_count": 197,
   "metadata": {},
   "outputs": [],
   "source": [
    "class SimpleModel(torch.nn.Module):\n",
    "    def __init__(self,num_channels, num_classes, input_shape=(128,128)):\n",
    "        super(SimpleModel,self).__init__()\n",
    "        self.conv_layer1 = self._conv_layer_set(num_channels, 32)\n",
    "        self.conv_layer2 = self._conv_layer_set(32, 64)\n",
    "        self.fc1 = nn.Linear(64*input_shape[1]//4*input_shape[1]//4, 64) # Calculated with the size. why //4\n",
    "        self.fc2 = nn.Linear(64, num_classes)\n",
    "        self.drop = nn.Dropout(0.5)\n",
    "        \n",
    "    def _conv_layer_set(self, in_c, out_c):\n",
    "        conv_layer = nn.Sequential(OrderedDict([\n",
    "            ('conv',nn.Conv2d(in_c, out_c, kernel_size=3, padding=1)),\n",
    "            ('leakyrelu',nn.LeakyReLU()),\n",
    "            ('maxpool',nn.MaxPool2d(2)),\n",
    "        ]))\n",
    "        return conv_layer\n",
    "    \n",
    "\n",
    "    def forward(self, x):\n",
    "        out = self.conv_layer1(x)\n",
    "        out = self.conv_layer2(out)\n",
    "       \n",
    "        out = out.view(out.size(0), -1)\n",
    "\n",
    "        out = self.fc1(out)\n",
    "        out = self.drop(out)\n",
    "        out = self.fc2(out)\n",
    "        return out"
   ]
  },
  {
   "cell_type": "markdown",
   "metadata": {},
   "source": [
    "# Question 2\n",
    "\n",
    "Get inspired on the code you did on the previous lab and create your ```train function```. It might be useful to think about having a ```predict``` function too. Check the code of the previous lab if you need ideas!\n",
    "\n",
    "Do not forget, to train you need an ```optimizer```, ```loss function``` and an instance of your ```model```! If you need more inspiration check [here](https://pytorch.org/tutorials/beginner/blitz/cifar10_tutorial.html)!"
   ]
  },
  {
   "cell_type": "code",
   "execution_count": 184,
   "metadata": {},
   "outputs": [],
   "source": [
    "# from https://christianbernecker.medium.com/how-to-create-a-confusion-matrix-with-tensorboard-and-pytorch-3344ad5e7209\n",
    "def createConfusionMatrix(net, loader):\n",
    "    y_pred = [] # save predction\n",
    "    y_true = [] # save ground truth\n",
    "\n",
    "    # iterate over data\n",
    "    for inputs, labels in loader:\n",
    "        output = net(inputs)  # Feed Network\n",
    "\n",
    "        output = (torch.max(torch.exp(output), 1)[1]).data.cpu().numpy()\n",
    "        y_pred.extend(output)  # save prediction\n",
    "\n",
    "        labels = labels.data.cpu().numpy()\n",
    "        y_true.extend(labels)  # save ground truth\n",
    "\n",
    "    # constant for classes\n",
    "    classes = train_dataset.classes[:-1]\n",
    "\n",
    "    # Build confusion matrix\n",
    "    cf_matrix = confusion_matrix(y_true, y_pred)\n",
    "    df_cm = pd.DataFrame(cf_matrix/np.sum(cf_matrix) * 10, index=[i for i in classes],\n",
    "                         columns=[i for i in classes])\n",
    "    plt.figure(figsize=(12, 7))    \n",
    "    return sn.heatmap(df_cm, annot=True).get_figure()\n",
    "\n",
    "def train(epoch_number, optimizer, loss, model, train_loader, valid_loader=None, lr=0.001):\n",
    "    writer = SummaryWriter()\n",
    "    \n",
    "    opt = optimizer(model.parameters(), lr=lr, weight_decay=1e-5)\n",
    "    for epoch in range(epoch_number):\n",
    "        step = (epoch + 1) * len(train_loader) - 1\n",
    "        \n",
    "        model.train()\n",
    "        train_loss = 0\n",
    "        train_correct = 0\n",
    "        for batch_idx, (inputs, labels) in enumerate(train_loader):\n",
    "            opt.zero_grad()\n",
    "            outputs = model(inputs)\n",
    "            l = loss(outputs, labels)\n",
    "            l.backward()\n",
    "            opt.step()\n",
    "            writer.add_scalar(\"Loss/batch\", l, epoch*len(train_loader) + batch_idx)\n",
    "            train_loss += l.item()\n",
    "            train_correct += torch.sum(torch.max(outputs, 1).indices == labels).item()\n",
    "            if (batch_idx % 10) == 0:\n",
    "                print(\"\\r[Batch {} of Epoch {}]\\t Loss:{}\".format(batch_idx, epoch, l), end=\"\")\n",
    "        train_loss /= len(train_loader)\n",
    "        train_correct /= len(train_loader)\n",
    "        writer.add_scalar(\"Loss/train\", train_loss, step)\n",
    "        writer.add_scalar(\"Accuracy/train\", train_correct, step)\n",
    "        writer.add_figure(\"CF/train\", createConfusionMatrix(model, train_loader), step)\n",
    "                \n",
    "        if valid_loader:\n",
    "            valid_loss = 0\n",
    "            valid_correct = 0\n",
    "            predictions = []\n",
    "            truth = []\n",
    "            model.eval()\n",
    "            for inputs, labels in valid_loader:\n",
    "                outputs = model(inputs)\n",
    "                predictions.extend((torch.max(torch.exp(outputs), 1)[1]).data.cpu().numpy())\n",
    "                truth.extend(labels.data.cpu().numpy())\n",
    "                l = loss(outputs, labels)\n",
    "                valid_loss += l.item()\n",
    "                valid_correct += torch.sum(torch.max(outputs, 1).indices == labels).item()\n",
    "            valid_loss /= len(valid_loader)\n",
    "            valid_correct /= len(valid_loader)\n",
    "            writer.add_scalar(\"Loss/valid\", valid_loss, step)\n",
    "            writer.add_scalar(\"Accuracy/valid\", valid_correct, step)\n",
    "            writer.add_figure(\"CF/valid\", createConfusionMatrix(model, valid_loader), step)\n",
    "    writer.add_graph(model, next(iter(train_loader))[0])\n",
    "\n",
    "def predict(model, loader):\n",
    "    model.eval()\n",
    "    predicted, truth = [], []\n",
    "    for inputs, labels in loader:\n",
    "        outputs = model(inputs)\n",
    "        predicted.extend(outputs.numpy())\n",
    "        truth.extend(outputs.numpy())\n",
    "    return predicted, truth"
   ]
  },
  {
   "cell_type": "markdown",
   "metadata": {},
   "source": [
    "# Question 3\n",
    "\n",
    "Now that you have your train function. Train the network until it overfits. Which ```hyperparameters``` allowed you to overfit?"
   ]
  },
  {
   "cell_type": "code",
   "execution_count": 224,
   "metadata": {},
   "outputs": [
    {
     "name": "stdout",
     "output_type": "stream",
     "text": [
      "[Batch 670 of Epoch 4]\t Loss:0.0023046585265547037"
     ]
    }
   ],
   "source": [
    "model = SimpleModel(3, len(train_dataset.classes)-1)\n",
    "\n",
    "train(5, torch.optim.Adam, torch.nn.CrossEntropyLoss(), model, train_loader, valid_loader, lr=0.0005)"
   ]
  },
  {
   "cell_type": "markdown",
   "metadata": {},
   "source": [
    "To help you visualize the results we provide a ```confusion matrix function```. "
   ]
  },
  {
   "cell_type": "code",
   "execution_count": 67,
   "metadata": {},
   "outputs": [],
   "source": [
    "from sklearn.metrics import confusion_matrix,ConfusionMatrixDisplay\n",
    "import seaborn as sn\n",
    "import pandas as pd\n",
    "import numpy as np"
   ]
  },
  {
   "cell_type": "code",
   "execution_count": 110,
   "metadata": {},
   "outputs": [],
   "source": [
    "def matrix(loader,net,classes):\n",
    "    y_pred = []\n",
    "    y_true = []\n",
    "    for inputs, labels in loader:\n",
    "            output = net(inputs)\n",
    "            y_pred.extend(torch.max(torch.exp(output), 1).indices.numpy())\n",
    "            y_true.extend(labels.data.cpu().numpy())\n",
    "            break\n",
    "\n",
    "    # Build confusion matrix\n",
    "    cf_matrix = confusion_matrix(y_true, y_pred)\n",
    "    disp = ConfusionMatrixDisplay(confusion_matrix=cf_matrix,display_labels=classes)\n",
    "    disp.plot()"
   ]
  },
  {
   "cell_type": "code",
   "execution_count": 213,
   "metadata": {},
   "outputs": [
    {
     "data": {
      "image/png": "[encoded data removed]",
      "text/plain": [
       "<Figure size 640x480 with 2 Axes>"
      ]
     },
     "metadata": {},
     "output_type": "display_data"
    }
   ],
   "source": [
    "matrix(valid_loader, model, train_dataset.classes[:-1])"
   ]
  },
  {
   "cell_type": "markdown",
   "metadata": {},
   "source": [
    "# Question 4\n",
    "Go through the [doc](https://pytorch.org/vision/stable/transforms.html) about data augmentation transformations and use some in your pipeline. Did the ones you try improve your model? Why?"
   ]
  },
  {
   "cell_type": "markdown",
   "metadata": {},
   "source": [
    "# Question 5\n",
    "\n",
    "Redo the previous questions with an image size of ```128x128```. Make sure to note what changed and why. Compare both versions on ```Tensorboard``` plots."
   ]
  },
  {
   "cell_type": "markdown",
   "metadata": {},
   "source": [
    "# Question 6\n",
    "\n",
    "Once you have a good model for ```128x128``` without ```fine grain``` redo the experiments with ```fine grain```. How did the performance change? And why?"
   ]
  },
  {
   "cell_type": "code",
   "execution_count": null,
   "metadata": {},
   "outputs": [],
   "source": [
    "# 64, no augment - Nov03_20-06-57_CND0485WX8\n",
    "# 64, augment - Nov03_20-48-03_CND0485WX8\n",
    "# 128, no augment - Nov03_21-37-41_CND0485WX8\n",
    "# 128, augment - Nov03_22-11-30_CND0485WX8\n",
    "# 128, real augment - Nov04_07-34-12_CND0485WX8\n",
    "# 128, real augment, fine - Nov04_16-48-15_CND0485WX8"
   ]
  }
 ],
 "metadata": {
  "kernelspec": {
   "display_name": "Python 3 (ipykernel)",
   "language": "python",
   "name": "python3"
  },
  "language_info": {
   "codemirror_mode": {
    "name": "ipython",
    "version": 3
   },
   "file_extension": ".py",
   "mimetype": "text/x-python",
   "name": "python",
   "nbconvert_exporter": "python",
   "pygments_lexer": "ipython3",
   "version": "3.8.13"
  }
 },
 "nbformat": 4,
 "nbformat_minor": 4
}
